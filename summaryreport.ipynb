{
 "metadata": {
  "language_info": {
   "codemirror_mode": {
    "name": "ipython",
    "version": 3
   },
   "file_extension": ".py",
   "mimetype": "text/x-python",
   "name": "python",
   "nbconvert_exporter": "python",
   "pygments_lexer": "ipython3",
   "version": 3
  },
  "orig_nbformat": 2
 },
 "nbformat": 4,
 "nbformat_minor": 2,
 "cells": [
  {
   "source": [
    "#  Mushroom Classification: Is a Mushroom Edible or Poisonous?\n",
    "<p align=\"center\">\n",
    "<img src=\"https://github.com/Lwhieldon/IstheMushroomPoisonous/blob/master/images/UK_advice-gardening-grow-your-own-poisonous-edible-mushrooms_header.jpg?raw=true\"  />\n",
    "</p>\n"
   ],
   "cell_type": "markdown",
   "metadata": {}
  },
  {
   "source": [
    "## Abstract\n",
    "\n",
    "Mushrooms (a.k.a. Fungi) have a multitude of uses for humankind. From medicine, food, and even for esoteric uses like packaging & biofuel, fungi have the potential to unlock biological material that's considered a 'waste product' in our civilization and convert it into something else entirely useful. Small business communities of mushroom foragers are now more than ever seeing a rise in the interest of fungi throughout the world.\n",
    "\n",
    "In this project, I will pretend that I am a data scientist hired by a business community of local mushroom foragers in Oregon and they need my help to build out a better process to identify if mushrooms are poisonous or edible; they have a bunch of 'young' fungi foragers who need a little help!\n",
    "\n",
    "I compare different machine learning classification models to find the one with the best performance: k-Nearest Neighbors, Logistic Regression, and Preceptron techniques. In discovery, I conclude that....\n"
   ],
   "cell_type": "markdown",
   "metadata": {}
  },
  {
   "source": [
    "## Introduction & Motivation\n",
    "\n"
   ],
   "cell_type": "markdown",
   "metadata": {}
  },
  {
   "source": [
    "## EDA\n",
    "\n"
   ],
   "cell_type": "markdown",
   "metadata": {}
  },
  {
   "source": [
    "## Data cleaning\n",
    "\n"
   ],
   "cell_type": "markdown",
   "metadata": {}
  },
  {
   "source": [
    "## Feature engineering\n",
    "\n"
   ],
   "cell_type": "markdown",
   "metadata": {}
  },
  {
   "source": [
    "## Modeling\n"
   ],
   "cell_type": "markdown",
   "metadata": {}
  },
  {
   "source": [
    "\n",
    "## Results & Discussion"
   ],
   "cell_type": "markdown",
   "metadata": {}
  },
  {
   "source": [
    "## Conclusion and summary"
   ],
   "cell_type": "markdown",
   "metadata": {}
  },
  {
   "source": [
    " ## Limitations and later work"
   ],
   "cell_type": "markdown",
   "metadata": {}
  },
  {
   "source": [
    "## References and Contributions"
   ],
   "cell_type": "markdown",
   "metadata": {}
  }
 ]
}